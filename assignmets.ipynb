{
 "cells": [
  {
   "cell_type": "markdown",
   "metadata": {},
   "source": [
    "\n",
    "1). What is Python, name some of the features of Python?\n",
    "\n",
    "ANS....  \n",
    "'''python is a simple and easy to understand language which feels like reading simple english. this psuedo code nature    of python\n",
    "makes it easy to learn and understand by beginners.'''\n",
    "\n",
    "\n",
    " features of pthon\n",
    "1). easy to code: python is a high-leval programming language \n",
    "2). free and open source\n",
    "3). object-oriented language\n",
    "4). python is portable language\n",
    "5). python is a intergrated language\n",
    "6). extensible feature"
   ]
  },
  {
   "cell_type": "markdown",
   "metadata": {},
   "source": [
    "2). Write a Python program to get the Python version you are using?\n",
    "\n",
    "ANS...\n",
    "write in CMD \n",
    "py --version\n",
    "\n",
    "\n"
   ]
  },
  {
   "cell_type": "markdown",
   "metadata": {},
   "source": [
    "3). Is python the right choice for Web based Programming?\n",
    "\n",
    "ANS...\n",
    "    python programmming yileds an advantage over other programming language when it comes to highly functional programming, which is a must have for websites and application in 2021 with its ongoing development, python is the perfect language to cover the challeges that businesses face every day now "
   ]
  },
  {
   "cell_type": "markdown",
   "metadata": {},
   "source": [
    "4). Why was the language called as Python?\n",
    "\n",
    "ANS...\n",
    "when he began implementing python, guido van rossum was also reading the publised scripts from \"monty python's flying circus\", a BBC comedy series from the 1970s. van rossum thought he needed a name that was short, unique and slightly mysterious, so he decided to call the  language python\n"
   ]
  },
  {
   "cell_type": "code",
   "execution_count": 1,
   "metadata": {},
   "outputs": [
    {
     "name": "stdout",
     "output_type": "stream",
     "text": [
      "1.0 is positive numnber\n"
     ]
    }
   ],
   "source": [
    "# 5). Write a Python program to check if a number is positive, negative or zero?\n",
    "\n",
    "num = float(input('please Enter your number:'))\n",
    "if num > 0:\n",
    "    print(f\"{num} is positive numnber\")\n",
    "elif num == 0:\n",
    "    print(f\"{num} is Zero\")\n",
    "else:\n",
    "    print(f\"{num} is nagative number\")\n"
   ]
  },
  {
   "cell_type": "markdown",
   "metadata": {},
   "source": [
    "6). What is the language from which Python has got its features or derived its features?\n",
    "\n",
    "ANS...\n",
    "    python is derived from many other languages, including ABC, modula-3, C, C++, Algol-68, Smalltalk, and Unixshell and other scripting languages. python is copyrighted"
   ]
  },
  {
   "cell_type": "code",
   "execution_count": 2,
   "metadata": {},
   "outputs": [
    {
     "name": "stdout",
     "output_type": "stream",
     "text": [
      "printing type of input value\n",
      "value type <class 'str'>\n"
     ]
    }
   ],
   "source": [
    "# 7) .Write a Python program to check if variable is of integer or string?\n",
    "\n",
    "datatype_01= input('enter value and hit Enter')\n",
    "print('printing type of input value')\n",
    "print('value type', type(datatype_01))\n"
   ]
  },
  {
   "cell_type": "markdown",
   "metadata": {},
   "source": [
    "8). Does python support switch or case statement in Python? If not what is the reason for the\n",
    "same?\n",
    "\n",
    "ANS...\n",
    "python dones not have a switch/case statement because of unsatisfactory proposals. nobody has been able to suggest an implementation that works well with python syntax and establised coding style"
   ]
  },
  {
   "cell_type": "markdown",
   "metadata": {},
   "source": [
    "9) .How Python is interpreted?\n",
    "\n",
    "\n",
    "ANS...\n",
    "python is an 'interpreted language'. this means it uses an interpreter. An interpreter is very diffrent from the compiler.\n",
    "An interpreter executes the statement of code \"one-by-one\"whereas the compiler executes the code entirely and lists all possible error at the time"
   ]
  },
  {
   "cell_type": "code",
   "execution_count": 5,
   "metadata": {},
   "outputs": [
    {
     "name": "stdout",
     "output_type": "stream",
     "text": [
      "1\n",
      "2\n",
      "6\n",
      "24\n",
      "120\n"
     ]
    }
   ],
   "source": [
    "# 10). Write a Python program to get the Factorial number of given number?\n",
    "num =int(input('enter your number'))\n",
    "factorial =1\n",
    "\n",
    "if num < 0:\n",
    "    print('factorial does not exist for nagetive numbers')\n",
    "elif num == 0:\n",
    "    print('the factorial of 0 is 1')\n",
    "else:\n",
    "    for i in range(1,num + 1):\n",
    "        factorial =factorial*i\n",
    "        print(factorial)"
   ]
  },
  {
   "cell_type": "markdown",
   "metadata": {},
   "source": [
    "11).How memory is managed in Python?\n",
    "\n",
    "ANS..\n",
    "as we know, python uses the dynamic memory allocation which is maneged by the heap of data struture.memory heap holds the obkects and other data strruture that will be used in python. python memory manager manages the allocation or de-allocation of the heap memory  space through the API function"
   ]
  },
  {
   "cell_type": "markdown",
   "metadata": {},
   "source": [
    "12). What is namespace in Python?\n",
    "\n",
    "ANS...\n",
    "namespace is colletion of currently defined symbolic names along with information about the object that name referances"
   ]
  },
  {
   "cell_type": "markdown",
   "metadata": {},
   "source": [
    "13). What is the purpose of continue statement in python?\n",
    "\n",
    "ANS...\n",
    "the continue satement is used to skip the rest of the code inside a loop for the current itreation only. lopp does not  terminate but continue on with the next itration."
   ]
  },
  {
   "cell_type": "code",
   "execution_count": 9,
   "metadata": {},
   "outputs": [
    {
     "name": "stdout",
     "output_type": "stream",
     "text": [
      "3\n",
      "2\n"
     ]
    }
   ],
   "source": [
    "# 14). Write python program that swap two number with temp variable and without temp variable?\n",
    "\n",
    "a =2\n",
    "b =3\n",
    "\n",
    "temp =a\n",
    "a =b\n",
    "b =temp\n",
    "\n",
    "print(a)\n",
    "print(b)"
   ]
  },
  {
   "cell_type": "code",
   "execution_count": 14,
   "metadata": {},
   "outputs": [
    {
     "name": "stdout",
     "output_type": "stream",
     "text": [
      "10 is Even\n",
      "11 is odd\n",
      "12 is Even\n",
      "13 is odd\n",
      "14 is Even\n",
      "15 is odd\n",
      "16 is Even\n",
      "17 is odd\n",
      "18 is Even\n",
      "19 is odd\n",
      "20 is Even\n",
      "21 is odd\n",
      "22 is Even\n",
      "23 is odd\n",
      "24 is Even\n",
      "25 is odd\n",
      "26 is Even\n",
      "27 is odd\n",
      "28 is Even\n",
      "29 is odd\n",
      "30 is Even\n",
      "31 is odd\n",
      "32 is Even\n",
      "33 is odd\n",
      "34 is Even\n",
      "35 is odd\n",
      "36 is Even\n",
      "37 is odd\n",
      "38 is Even\n",
      "39 is odd\n",
      "40 is Even\n",
      "41 is odd\n",
      "42 is Even\n",
      "43 is odd\n",
      "44 is Even\n",
      "45 is odd\n",
      "46 is Even\n",
      "47 is odd\n",
      "48 is Even\n",
      "49 is odd\n",
      "50 is Even\n"
     ]
    }
   ],
   "source": [
    "# 15). Write a Python program to find whether a given number is even or odd, print out an appropriate message to the user.?\n",
    "\n",
    "\n",
    "number =int(input('enter your number:'))\n",
    "while number <= 50:\n",
    "    if number%2 ==0:\n",
    "        print(number,'is Even')\n",
    "    else:\n",
    "        print(number,'is odd')\n",
    "    number +=1\n"
   ]
  },
  {
   "cell_type": "code",
   "execution_count": 23,
   "metadata": {},
   "outputs": [
    {
     "name": "stdout",
     "output_type": "stream",
     "text": [
      "22275.0\n"
     ]
    }
   ],
   "source": [
    "'''16). Write a Python program that compute the area of following:\n",
    "1) Triangle (accepts base and height)\n",
    "2) Circle (accept radius) ?'''\n",
    "\n",
    "'''b= int(input('enter the base:'))\n",
    "h =int(input('enter your height:'))\n",
    "area =b*h/2\n",
    "print(area)'''\n",
    "\n",
    "\n",
    "c = int(input('enter your circumference'))\n",
    "circum =22*c*c/2\n",
    "print(circum)"
   ]
  },
  {
   "cell_type": "code",
   "execution_count": 1,
   "metadata": {},
   "outputs": [
    {
     "name": "stdout",
     "output_type": "stream",
     "text": [
      "a is a Vowel\n"
     ]
    }
   ],
   "source": [
    "# 17).Write a Python program to test whether a passed letter is a vowel or not.?\n",
    "\n",
    "ch = input(\"Enter a character: \")\n",
    "\n",
    "if(ch=='A' or ch=='a' or ch=='E' or ch =='e' or ch=='I' or ch=='i' or ch=='O' or ch=='o' or ch=='U' or ch=='u'):\n",
    "    print(ch, \"is a Vowel\")\n",
    "else:\n",
    "    print(ch, \"is a Consonant\")\n"
   ]
  },
  {
   "cell_type": "code",
   "execution_count": 3,
   "metadata": {},
   "outputs": [
    {
     "name": "stdout",
     "output_type": "stream",
     "text": [
      "the simple intrest of your principle amount is 600.0\n"
     ]
    }
   ],
   "source": [
    "# 19). Write a Python program to compute the value of a specified principal amount, rate of interest, and several years?\n",
    "\n",
    "amt= int(input('Enter your principal amount:'))\n",
    "intrest =float(input('enter your rate:'))\n",
    "year =int(input('enter your time(year):'))\n",
    "\n",
    "simple_intrest= (amt * intrest * year) / 100\n",
    "print('the simple intrest of your principle amount is',simple_intrest)"
   ]
  },
  {
   "cell_type": "markdown",
   "metadata": {},
   "source": [
    "20). What are the tools that help to find bugs or perform static analysis?\n",
    "\n",
    "ANS..\n",
    "\n",
    "pychecker and pylint are the static analysis tools that help  to find  bugs in  python. pychecker is an opensource tools for static analysis that detects the bugs from source code and warn abount the style and complexity of the bug"
   ]
  },
  {
   "cell_type": "markdown",
   "metadata": {},
   "source": [
    "21). What are Python decorators? \n",
    "\n",
    "ANS...\n",
    "\n",
    "decoraters are a very useful and powerful in python since it allows the programmer to modify the behaviour of functions and class. decoraters allows to wrap another function in order to extend the behaviour of the wrapped function,without permanently modifying it\n"
   ]
  },
  {
   "cell_type": "markdown",
   "metadata": {},
   "source": [
    "22). . What is PEP 8?\n",
    "\n",
    "ANS...\n",
    "\n",
    "PEP8, somethimes spelled PEP-8, is a document that provide guidelines and best practices on how to write python code. it is writtenin 2001 by guido van Rossum, barry warsaw, and nick coghlan the primary focus of PEP8 is to improve the redability and consistency of python code."
   ]
  },
  {
   "cell_type": "code",
   "execution_count": 21,
   "metadata": {},
   "outputs": [
    {
     "name": "stdout",
     "output_type": "stream",
     "text": [
      "2 8 5\n"
     ]
    }
   ],
   "source": [
    "#  23). Write a Python program to sort three integers without using conditional statements and loops.?\n",
    "\n",
    "num1= int(input('Enter your first Number:'))\n",
    "num2 =int(input('Emter your second number:'))\n",
    "num3 =int(input('Enter your third Number:'))\n",
    "\n",
    "a1 =min(num1,num2,num3)\n",
    "a2 =max(num1,num2,num3) \n",
    "\n",
    "a3= (num1+num2+num3)- a1 - a2\n",
    "print(a1,a2,a3)\n"
   ]
  },
  {
   "cell_type": "code",
   "execution_count": 36,
   "metadata": {},
   "outputs": [
    {
     "name": "stdout",
     "output_type": "stream",
     "text": [
      "0 1 \n",
      "0 1 2 \n",
      "0 1 2 3 \n",
      "0 1 2 3 4 \n",
      "0 1 2 3 4 5 \n",
      "0 1 2 3 4 5 6 \n"
     ]
    }
   ],
   "source": [
    "# 24). Write a Python program that accepts an integer (n) and computes the value of n+nn+nnn?\n",
    "\n",
    "num=int(input('Enter your number'))\n",
    "\n",
    "for num in range(1,7):\n",
    "    for i in range(num+1):\n",
    "        print(i,end= ' ')\n",
    "    print()"
   ]
  },
  {
   "cell_type": "code",
   "execution_count": 37,
   "metadata": {},
   "outputs": [
    {
     "name": "stdout",
     "output_type": "stream",
     "text": [
      "120\n"
     ]
    }
   ],
   "source": [
    "# 25) Write a Python program to sum of three given integers. However, if two values are equal sum will be zero?\n",
    "\n",
    "number1=int(input('Enter Your Number:'))\n",
    "number2=int(input('Enter Your Number:'))\n",
    "number3=int(input('Enter Your Number:'))\n",
    "\n",
    "if number1 ==number2 or number2 == number3 or number3 == number1:\n",
    "    print(sum= 'is ZEro')\n",
    "else:\n",
    "    sum =number1+number2+number3\n",
    "    total =sum\n",
    "\n",
    "    print(total)"
   ]
  },
  {
   "cell_type": "code",
   "execution_count": 4,
   "metadata": {},
   "outputs": [
    {
     "data": {
      "text/plain": [
       "True"
      ]
     },
     "execution_count": 4,
     "metadata": {},
     "output_type": "execute_result"
    }
   ],
   "source": [
    "# 26). Write a Python program that will return true if the two given integer values are equal or their sum or difference is 5.?\n",
    "\n",
    "def function_01(x, y):\n",
    "    if x == y or (x - y)== 5 or (x + y) == 5:\n",
    "        return True\n",
    "    else:\n",
    "        return False\n",
    "    \n",
    "x =int(input('enter your number:'))\n",
    "y =int(input('enter your number:'))\n",
    "\n",
    "function_01(x,y)"
   ]
  },
  {
   "cell_type": "code",
   "execution_count": 5,
   "metadata": {},
   "outputs": [
    {
     "name": "stdout",
     "output_type": "stream",
     "text": [
      "2\n",
      "3\n",
      "4\n",
      "5\n",
      "6\n",
      "7\n",
      "8\n",
      "9\n"
     ]
    }
   ],
   "source": [
    "# 27). Write a python program to sum of the first n positive integers?\n",
    "\n",
    "number =int(input('enter number:'))\n",
    "\n",
    "sum =1\n",
    "for i in range(1,number+1):\n",
    "    print(sum + i)\n"
   ]
  },
  {
   "cell_type": "code",
   "execution_count": 1,
   "metadata": {},
   "outputs": [
    {
     "name": "stdout",
     "output_type": "stream",
     "text": [
      "42\n"
     ]
    }
   ],
   "source": [
    "# 28. Write a Python program to calculate the length of a string. ?\n",
    "\n",
    "string_01 ='hellow everyone,good morning to all of you'\n",
    "print(len(string_01))\n",
    "\n"
   ]
  },
  {
   "cell_type": "code",
   "execution_count": 16,
   "metadata": {},
   "outputs": [
    {
     "name": "stdout",
     "output_type": "stream",
     "text": [
      "Count of all characters in siddharth vydas \n",
      "{'s': 2, 'i': 1, 'd': 3, 'h': 2, 'a': 2, 'r': 1, 't': 1, ' ': 1, 'v': 1, 'y': 1}\n"
     ]
    }
   ],
   "source": [
    "# 29) . Write a Python program to count the number of characters (character frequency) in a string?\n",
    "\n",
    "string_01 ='siddharth vydas'\n",
    "dict_01 ={}\n",
    "\n",
    "for i in string_01:\n",
    "    if i in dict_01:\n",
    "        dict_01[i] +=1\n",
    "\n",
    "    else:\n",
    "        dict_01[i] = 1\n",
    "\n",
    "print('Count of all characters in '+string_01,\"\\n\"+  str(dict_01))"
   ]
  },
  {
   "cell_type": "markdown",
   "metadata": {},
   "source": [
    "30). What are negative indexes and why are they used? \n",
    "\n",
    "ans...\n",
    "The negative index is used to remove any new-line spaces from the string and allow the string to except the last character that is given as S[:-1]. The negative index is also used to show the index to represent the string in correct order"
   ]
  },
  {
   "cell_type": "markdown",
   "metadata": {},
   "source": [
    "31). Explain split(), sub(), subn() methods of “re” module in Python.?\n",
    "\n",
    "ans...\n",
    "\n",
    "split() =split the string into a list,splitting it  wherever the RE matches\n",
    "sub() =fing all substrings where the RE matches, ans replace them with a diffrent string\n",
    "subn()  =does the same thing as sub(),but  return the new string and the number of replacements\n"
   ]
  },
  {
   "cell_type": "markdown",
   "metadata": {},
   "source": [
    "32). How do you perform pattern matching in Python? Explain ?\n",
    "\n",
    "ans...\n",
    "\n",
    "1. import the regex module with import re.\n",
    "2. create the regex object with re.compile() function..\n",
    "3. pass the string you want to search in the the regex object search() method...\n",
    "4. the match object's group() method to return a stirng of the actual matched text..."
   ]
  },
  {
   "cell_type": "code",
   "execution_count": 18,
   "metadata": {},
   "outputs": [
    {
     "name": "stdout",
     "output_type": "stream",
     "text": [
      "2\n"
     ]
    }
   ],
   "source": [
    "# 33). Write a Python program to count occurrences of a substring in a string?\n",
    "\n",
    "string_01 ='python is popular language.python used for develop web application'\n",
    "print(string_01.count('python'))"
   ]
  },
  {
   "cell_type": "code",
   "execution_count": 20,
   "metadata": {},
   "outputs": [
    {
     "name": "stdout",
     "output_type": "stream",
     "text": [
      "{'the': 2, 'quick': 1, 'brown': 1, 'fox': 1, 'jumps': 1, 'over': 1, 'lazy': 1, 'dog.': 1}\n"
     ]
    }
   ],
   "source": [
    "# 34). Write a Python program to count the occurrences of each word in a given sentence?\n",
    "\n",
    "def word_count(str):\n",
    "    counts = dict()\n",
    "    words = str.split()\n",
    "\n",
    "    for word in words:\n",
    "        if word in counts:\n",
    "            counts[word] += 1\n",
    "        else:\n",
    "            counts[word] = 1\n",
    "\n",
    "    return counts\n",
    "\n",
    "print( word_count('the quick brown fox jumps over the lazy dog.'))\n",
    "\n",
    "    "
   ]
  },
  {
   "cell_type": "code",
   "execution_count": 3,
   "metadata": {},
   "outputs": [
    {
     "name": "stdout",
     "output_type": "stream",
     "text": [
      "Your first string has become :-  hyllow\n",
      "Your second string has become :-  hee\n"
     ]
    }
   ],
   "source": [
    "# 35).  Write a Python program to get a single string from two given strings, separated by a space and swap the first two characters of each string?\n",
    "\n",
    "\n",
    "# take strings from user\n",
    "str1 = input(\"Please Enter First String : \")\n",
    "str2 =input(\"Please Enter Second String : \")\n",
    " \n",
    "x=str1[0:2]\n",
    " \n",
    "str1=str1.replace(str1[0:2],str2[0:2])\n",
    " \n",
    "str2=str2.replace(str2[0:2],x)\n",
    " \n",
    "print(\"Your first string has become :- \",str1)\n",
    "print(\"Your second string has become :- \",str2)\n"
   ]
  },
  {
   "cell_type": "code",
   "execution_count": 4,
   "metadata": {},
   "outputs": [
    {
     "name": "stdout",
     "output_type": "stream",
     "text": [
      "ab\n",
      "abcing\n",
      "stringly\n"
     ]
    }
   ],
   "source": [
    "'''36) .Write a Python program to add 'ing' at the end of a given string (length should be at least 3).\n",
    "If the given string already ends with 'ing' then add 'ly' instead If the string length of the given\n",
    "string is less than 3, leave it unchanged?'''\n",
    "\n",
    "def add_string(str1):\n",
    "  length = len(str1)\n",
    "\n",
    "  if length > 2:\n",
    "    if str1[-3:] == 'ing':\n",
    "      str1 += 'ly'\n",
    "    else:\n",
    "      str1 += 'ing'\n",
    "\n",
    "  return str1\n",
    "print(add_string('ab'))\n",
    "print(add_string('abc'))\n",
    "print(add_string('string'))\n",
    "\n",
    "\n",
    "\n"
   ]
  },
  {
   "cell_type": "code",
   "execution_count": 5,
   "metadata": {},
   "outputs": [
    {
     "name": "stdout",
     "output_type": "stream",
     "text": [
      "The lyrics is good!\n",
      "The lyrics is poor!\n"
     ]
    }
   ],
   "source": [
    "'''37. Write a Python program to find the first appearance of the substring 'not' and 'poor' from a\n",
    "given string, if 'not' follows the 'poor', replace the whole 'not'...'poor' substring with 'good'.\n",
    "Return the resulting string.?'''\n",
    "\n",
    "def not_poor(str1):\n",
    "  snot = str1.find('not')\n",
    "  spoor = str1.find('poor')\n",
    "  \n",
    "\n",
    "  if spoor > snot and snot>0 and spoor>0:\n",
    "    str1 = str1.replace(str1[snot:(spoor+4)], 'good')\n",
    "    return str1\n",
    "  else:\n",
    "    return str1\n",
    "print(not_poor('The lyrics is not that poor!'))\n",
    "print(not_poor('The lyrics is poor!'))"
   ]
  },
  {
   "cell_type": "code",
   "execution_count": 1,
   "metadata": {},
   "outputs": [
    {
     "name": "stdout",
     "output_type": "stream",
     "text": [
      "The word with the longest length is: third  and length is  5\n"
     ]
    }
   ],
   "source": [
    "# 38.) Write a Python function that takes a list of words and returns the length of the longest one. ?\n",
    "\n",
    "# function to find the longest\n",
    "# length in the list\n",
    "def longestLength(a):\n",
    "\tmax1 = len(a[0])\n",
    "\ttemp = a[0]\n",
    "\n",
    "\t# for loop to traverse the list\n",
    "\tfor i in a:\n",
    "\t\tif(len(i) > max1):\n",
    "\n",
    "\t\t\tmax1 = len(i)\n",
    "\t\t\ttemp = i\n",
    "\n",
    "\tprint(\"The word with the longest length is:\", temp,\" and length is \", max1)\n",
    "\n",
    "\n",
    "# Driver Program\n",
    "a = [\"one\", \"two\", \"third\", \"four\"]\n",
    "longestLength(a)\n"
   ]
  },
  {
   "cell_type": "code",
   "execution_count": 5,
   "metadata": {},
   "outputs": [
    {
     "name": "stdout",
     "output_type": "stream",
     "text": [
      "hdis\n"
     ]
    }
   ],
   "source": [
    "# 39).Write a Python function to reverses a string if it's length is a multiple of 4.?\n",
    "name=input(\"enter a name:\")\n",
    "\n",
    "if(len(name)%4==0):\n",
    "    print(name[::-1])\n",
    "else:\n",
    "    print(\"cant\")\n"
   ]
  },
  {
   "cell_type": "code",
   "execution_count": 3,
   "metadata": {},
   "outputs": [
    {
     "name": "stdout",
     "output_type": "stream",
     "text": [
      "[18, 94, 20, 13, 74, 62, 8, 2]\n"
     ]
    }
   ],
   "source": [
    "# 40). What is List? How will you reverse a list?\n",
    "\n",
    "'''Lists are used to store multiple items in a single variable.\n",
    "Lists are one of 4 built-in data types in Python used to store collections of data, \n",
    "the other 3 are Tuple, Set, and Dictionary, all with different qualities and usage.'''\n",
    "\n",
    "\n",
    "list =[2,8,62,74,13,20,94,18]\n",
    "list.reverse()\n",
    "print(list)"
   ]
  },
  {
   "cell_type": "code",
   "execution_count": 4,
   "metadata": {},
   "outputs": [
    {
     "name": "stdout",
     "output_type": "stream",
     "text": [
      "['banana', 'mango', 'pineapple', 'apple', 50]\n"
     ]
    }
   ],
   "source": [
    "# 41).How will you remove last object from a list? \n",
    "\n",
    "list =['banana','mango','pineapple','apple', 50 , 100]\n",
    "list.remove(100)\n",
    "print(list)"
   ]
  },
  {
   "cell_type": "code",
   "execution_count": null,
   "metadata": {},
   "outputs": [],
   "source": []
  },
  {
   "cell_type": "code",
   "execution_count": 5,
   "metadata": {},
   "outputs": [
    {
     "name": "stdout",
     "output_type": "stream",
     "text": [
      "25\n"
     ]
    }
   ],
   "source": [
    "# 42).Suppose list1 is [2, 33, 222, 14, 25], What is list1[-1]?\n",
    "\n",
    "list1 =[2, 33, 222, 14, 25]\n",
    "print(list1[-1])"
   ]
  },
  {
   "cell_type": "code",
   "execution_count": 6,
   "metadata": {},
   "outputs": [],
   "source": [
    "# 43).Differentiate between append() and extend() methods.? \n",
    "\n",
    "# append add its arguement as a singel element to the end of the list .the length of the list itself will increase by one.\n",
    "# extend iterates over its argument adding each element to the list,extanding the list.\n",
    "\n",
    "# b.5  Write a Python function to get the largest number, smallest num and sum of all from a list.?\n",
    "\n",
    "list_01=[21,52,84,90,60,63,74,12,58,73]"
   ]
  },
  {
   "cell_type": "code",
   "execution_count": null,
   "metadata": {},
   "outputs": [],
   "source": [
    "# 44. Write a python program to sum of the first n positive integers.?\n",
    "\n",
    "def num_1(num):\n",
    "    if num > 0:\n",
    "        sum = 0\n",
    "        for x in range(1,num + 1):\n",
    "            sum += x\n",
    "        return sum\n",
    "    else:\n",
    "        print(\"Please, enter only positive number\")\n",
    "\n",
    "\n",
    "print(num_1(10))"
   ]
  },
  {
   "cell_type": "code",
   "execution_count": null,
   "metadata": {},
   "outputs": [],
   "source": [
    "# 45. Write a Python program to count occurrences of a substring in a string\n",
    "\n",
    "str = 'python is a very easy and simple language to communicate with the computer'\n",
    "\n",
    "x = str.count('very')\n",
    "print(x)"
   ]
  },
  {
   "cell_type": "code",
   "execution_count": null,
   "metadata": {},
   "outputs": [],
   "source": [
    "# 46.Write a Python program to count the occurrences of each word in a given sentence.?\n",
    "\n",
    "str = 'india is world largest democratic country in the world'\n",
    "\n",
    "x = str.count('is')\n",
    "print(x)\n",
    "\n"
   ]
  },
  {
   "cell_type": "code",
   "execution_count": null,
   "metadata": {},
   "outputs": [],
   "source": [
    "# 47Write a Python program to get a single string from two given strings,separated by a space and swap the first two characters of each string.?\n",
    "\n",
    "\n",
    "x = 'hellow my name is python '\n",
    "z = 'and i am computer programming language'\n",
    "\n",
    "str1 = str2 = \"\"\n",
    "\n",
    "str1 = z[:2] + x[2:]\n",
    "str2 = x[:2] + z[2:]\n",
    "\n",
    "# print(x[:2])\n",
    "print(str1 + str2)"
   ]
  },
  {
   "cell_type": "code",
   "execution_count": null,
   "metadata": {},
   "outputs": [],
   "source": [
    "'''48 Write a Python program to add 'ing' at the end of a given string (length should be at least 3).\n",
    "If the given string already ends with 'ing' then add 'ly' instead If the string length of the given\n",
    "string is less than 3, leave it unchanged?'''\n",
    "\n",
    "\n",
    "str = input('enter your string:')\n",
    "\n",
    "if str[-3:] == 'ing':\n",
    "    s_str = str[0:-3] + 'ly'\n",
    "    print(s_str)\n",
    "elif len(str) > 3:\n",
    "    add_str = str + 'ing'\n",
    "    print(add_str)\n",
    "elif len(str) < 3:\n",
    "    print(str)\n",
    "else:\n",
    "    print('invalid entry')"
   ]
  },
  {
   "cell_type": "code",
   "execution_count": null,
   "metadata": {},
   "outputs": [],
   "source": [
    "'''49 Write a Python program to find the first appearance of the substring 'not' and 'poor' from a given string, if\n",
    "'not' follows the 'poor', replace the whole 'not'...'poor' substring with 'good'.\n",
    "Return the resulting string'''\n",
    "\n",
    "\n",
    "\n",
    "\n",
    "def not_poor(str1):\n",
    "  snot = str1.find('not')\n",
    "  spoor = str1.find('poor')\n",
    "  \n",
    "\n",
    "  if spoor > snot and snot>0 and spoor>0:\n",
    "    str1 = str1.replace(str1[snot:(spoor+4)], 'good')\n",
    "    return str1\n",
    "  else:\n",
    "    return str1\n",
    "\n",
    "\n",
    "print(not_poor =input('ENTER YOUR STRING:'))\n",
    "\n",
    "\n",
    "print(not_poor('The lyrics is poor!'))"
   ]
  },
  {
   "cell_type": "code",
   "execution_count": null,
   "metadata": {},
   "outputs": [],
   "source": [
    "'''47 Program to find Greatest Common Divisor of two numbers. For example,\n",
    "    the GCD of 20 and 28 is 4 and GCD of 98 and 56 is 14.?'''\n",
    "\n",
    "def gcd_01(num1,num2):\n",
    "\n",
    "    if num1 > num2:\n",
    "        smaller = num2\n",
    "    else:\n",
    "        smaller = num1\n",
    "\n",
    "    for i in range (1, smaller + 1):\n",
    "        if (num1 % i == 0) and (num2 % i == 0):\n",
    "            hcf = i\n",
    "    return hcf\n",
    "\n",
    "\n",
    "num1= int(input('enter your number:'))\n",
    "num2 = int(input('enter your number:'))\n",
    "\n",
    "print(gcd_01(num1,num2))\n"
   ]
  },
  {
   "cell_type": "code",
   "execution_count": null,
   "metadata": {},
   "outputs": [],
   "source": [
    "# 48.Write a Python program to check whether a list contains a sublist?\n",
    "\n",
    "# def check(list,sub_list):\n",
    "\n",
    "#     sub_set = False\n",
    "\n",
    "#     if sub_list == []:\n",
    "\n",
    "#         sub_set = True\n",
    "    \n",
    "#     elif sub_list == list:\n",
    "\n",
    "#         sub_set == True\n",
    "\n",
    "#     elif len(sub_list) > len(list):\n",
    "        \n",
    "#         sub_set  = False\n",
    "\n",
    "#     else:\n",
    "\n",
    "#         for i in range(len(list)):\n",
    "#             if list[i] == sub_list[0]:\n",
    "\n",
    "#                 n = 1\n",
    "\n",
    "#                 while ( n < len(sub_list)) and (list[i + n]  ==  sub_list[n]):\n",
    "\n",
    "#                     n += 1\n",
    "\n",
    "#                 if n == len(sub_list):\n",
    "#                     sub_set = True\n",
    "\n",
    "    \n",
    "#     return sub_set\n",
    "\n",
    "\n",
    "# a = [2,4,8,7,6,9,2]\n",
    "# b = [8,7]\n",
    "# c = [6,2]\n",
    "\n",
    "# print(check(a,b))\n",
    "# print(check(a,c))\n",
    "\n",
    "\n",
    "\n",
    "\n",
    "\n",
    "str_01 = input('enter your string:')\n",
    "str_02 = input('enter your string2:')\n",
    "\n",
    "\n",
    "lst = list(str_01)\n",
    "sub_list = list(str_02)\n",
    "\n",
    "print(lst)\n",
    "print(sub_list)\n",
    "\n",
    "if set(sub_list).issubset(set(lst)):\n",
    "    print('sub_list is subset of list')\n",
    "else:\n",
    "    print('sub_list is not subset of list')\n",
    "    "
   ]
  },
  {
   "cell_type": "code",
   "execution_count": null,
   "metadata": {},
   "outputs": [],
   "source": [
    "# 49.Write a Python program to find the second smallest number in a list. ?\n",
    "\n",
    "li = []\n",
    "\n",
    "num = int(input('enter the number of elements:'))\n",
    "\n",
    "for i in range(1, num+1):\n",
    "    element = int(input('enter the elements: '))\n",
    "    li.append(element)\n",
    "li.sort()\n",
    "\n",
    "print('the sorted list:', li)\n",
    "print('the second smallest value of the list:', li[1])"
   ]
  },
  {
   "cell_type": "code",
   "execution_count": null,
   "metadata": {},
   "outputs": [],
   "source": [
    "# 50. Write a Python program to get unique values from a list.?\n",
    "\n",
    "my_list = [10,20,30,10,40,50,60,50,70,90,80,70,10,20,50,60,100,110,100,120,130,120]\n",
    "print(\"Original List : \",my_list)\n",
    "my_set = set(my_list)\n",
    "my_new_list = list(my_set)\n",
    "print(\"List of unique numbers : \",my_new_list)\n",
    "\n"
   ]
  },
  {
   "cell_type": "code",
   "execution_count": null,
   "metadata": {},
   "outputs": [],
   "source": [
    "# 51. Write a Python program to unzip a list of tuples into individual lists.?\n",
    "\n",
    "list_01 = [(4,5,6,7,8,9),(14,45,65,87,90,14,25,36),(45,85,71,13,16,19)]\n",
    "\n",
    "for i in range(len(list_01)):\n",
    "    globals()[f'sub_list{i+1}'] = list(list_01[i])\n",
    "    print(f\"sub_list{i+1} -> {globals()[f'sub_list{i+1}']}\")"
   ]
  },
  {
   "cell_type": "code",
   "execution_count": null,
   "metadata": {},
   "outputs": [],
   "source": [
    "# 52.Write a Python program to convert a list of tuples into a dictionary?\n",
    "\n",
    "list = [(\"akash\", 10), (\"gaurav\", 12), (\"anand\", 14),(\"suraj\", 20), (\"akhil\", 25), (\"ashish\", 30)]\n",
    "\n",
    "a = dict(list)\n",
    "print(a)"
   ]
  },
  {
   "cell_type": "code",
   "execution_count": null,
   "metadata": {},
   "outputs": [],
   "source": [
    "# 53. Write a Python program to sort a dictionary (ascending /descending) by value?\n",
    "\n",
    "dict = {\n",
    "    'a' : 133,\n",
    "    'b' : 24,\n",
    "    'c' : 48,\n",
    "    'd' : 78,\n",
    "    'e' : 79\n",
    "}\n",
    "\n",
    "val = list(dict.values())\n",
    "\n",
    "val.sort()\n",
    "print(val)\n",
    "\n",
    "val.sort(reverse=True)\n",
    "print(val)\n",
    "\n"
   ]
  },
  {
   "cell_type": "code",
   "execution_count": null,
   "metadata": {},
   "outputs": [],
   "source": [
    "# 54. Write a Python program to find the highest 3 values in a dictionary?\n",
    "\n",
    "dict_01  = {\n",
    "    \"a\" : 30,\n",
    "    \"b\" : 16,\n",
    "    \"c\" : 14,\n",
    "    \"d\" : 120,\n",
    "    'e' : 48\n",
    "}\n",
    "\n",
    "x = dict_01.values()\n",
    "\n",
    "max_value = sorted(x)\n",
    "print(max_value)\n",
    "\n",
    "print(max_value[-3:])\n",
    "    "
   ]
  },
  {
   "cell_type": "code",
   "execution_count": null,
   "metadata": {},
   "outputs": [],
   "source": [
    "'''55. Given a number n, write a python program to make and print the list of Fibonacci series up to n.\n",
    "Input : n=7\n",
    "Hint : first 7 numbers in the series\n",
    "Expected output :\n",
    "First few Fibonacci numbers are 0, 1, 1, 2, 3, 5, 8, 13'''\n",
    "\n",
    "\n",
    "# Program to display the Fibonacci sequence up to n-th term\n",
    "\n",
    "nterms = int(input(\"How many terms? \"))\n",
    "\n",
    "# first two terms\n",
    "n1, n2 = 0, 1\n",
    "count = 0\n",
    "\n",
    "# check if the number of terms is valid\n",
    "if nterms <= 0:\n",
    "   print(\"Please enter a positive integer\")\n",
    "# if there is only one term, return n1\n",
    "elif nterms == 1:\n",
    "   print(\"Fibonacci sequence upto\",nterms,\":\")\n",
    "   print(n1)\n",
    "# generate fibonacci sequence\n",
    "else:\n",
    "   print(\"Fibonacci sequence:\")\n",
    "   while count < nterms:\n",
    "       print(n1)\n",
    "       nth = n1 + n2\n",
    "       # update values\n",
    "       n1 = n2\n",
    "       n2 = nth\n",
    "       count += 1"
   ]
  }
 ],
 "metadata": {
  "interpreter": {
   "hash": "b8eeea7db13471468ad276e1aa6abbd3f9f4200994ed792cdeec60c0462f2e2a"
  },
  "kernelspec": {
   "display_name": "Python 3.9.6 64-bit",
   "language": "python",
   "name": "python3"
  },
  "language_info": {
   "codemirror_mode": {
    "name": "ipython",
    "version": 3
   },
   "file_extension": ".py",
   "mimetype": "text/x-python",
   "name": "python",
   "nbconvert_exporter": "python",
   "pygments_lexer": "ipython3",
   "version": "3.9.6"
  },
  "orig_nbformat": 4
 },
 "nbformat": 4,
 "nbformat_minor": 2
}
