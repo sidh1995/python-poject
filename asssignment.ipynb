{
 "cells": [
  {
   "cell_type": "code",
   "execution_count": 6,
   "metadata": {},
   "outputs": [
    {
     "name": "stdout",
     "output_type": "stream",
     "text": [
      "55\n"
     ]
    }
   ],
   "source": [
    "# 1. Write a python program to sum of the first n positive integers.?\n",
    "\n",
    "def num_1(num):\n",
    "    if num > 0:\n",
    "        sum = 0\n",
    "        for x in range(1,num + 1):\n",
    "            sum += x\n",
    "        return sum\n",
    "    else:\n",
    "        print(\"Please, enter only positive number\")\n",
    "\n",
    "\n",
    "print(num_1(10))"
   ]
  },
  {
   "cell_type": "code",
   "execution_count": 9,
   "metadata": {},
   "outputs": [
    {
     "name": "stdout",
     "output_type": "stream",
     "text": [
      "3\n"
     ]
    }
   ],
   "source": [
    "# 2. Write a Python program to count occurrences of a substring in a string\n",
    "\n",
    "str = 'python is a very easy and simple language to communicate with the computer'\n",
    "\n",
    "x = str.count('very')\n",
    "print(x)"
   ]
  },
  {
   "cell_type": "code",
   "execution_count": 10,
   "metadata": {},
   "outputs": [
    {
     "name": "stdout",
     "output_type": "stream",
     "text": [
      "1\n"
     ]
    }
   ],
   "source": [
    "# 3.Write a Python program to count the occurrences of each word in a given sentence.?\n",
    "\n",
    "str = 'india is world largest democratic country in the world'\n",
    "\n",
    "x = str.count('is')\n",
    "print(x)\n",
    "\n"
   ]
  },
  {
   "cell_type": "code",
   "execution_count": 23,
   "metadata": {},
   "outputs": [
    {
     "name": "stdout",
     "output_type": "stream",
     "text": [
      "anllow my name is python hed i am computer programming language\n"
     ]
    }
   ],
   "source": [
    "# 4.Write a Python program to get a single string from two given strings,separated by a space and swap the first two characters of each string.?\n",
    "\n",
    "\n",
    "x = 'hellow my name is python '\n",
    "z = 'and i am computer programming language'\n",
    "\n",
    "str1 = str2 = \"\"\n",
    "\n",
    "str1 = z[:2] + x[2:]\n",
    "str2 = x[:2] + z[2:]\n",
    "\n",
    "# print(x[:2])\n",
    "print(str1 + str2)"
   ]
  },
  {
   "cell_type": "code",
   "execution_count": 1,
   "metadata": {},
   "outputs": [
    {
     "name": "stdout",
     "output_type": "stream",
     "text": [
      "invalid entry\n"
     ]
    }
   ],
   "source": [
    "'''5. 5. Write a Python program to add 'ing' at the end of a given string (length should be at least 3).\n",
    "If the given string already ends with 'ing' then add 'ly' instead If the string length of the given\n",
    "string is less than 3, leave it unchanged?'''\n",
    "\n",
    "\n",
    "str = input('enter your string:')\n",
    "\n",
    "if str[-3:] == 'ing':\n",
    "    s_str = str[0:-3] + 'ly'\n",
    "    print(s_str)\n",
    "elif len(str) > 3:\n",
    "    add_str = str + 'ing'\n",
    "    print(add_str)\n",
    "elif len(str) < 3:\n",
    "    print(str)\n",
    "else:\n",
    "    print('invalid entry')"
   ]
  },
  {
   "cell_type": "code",
   "execution_count": 9,
   "metadata": {},
   "outputs": [
    {
     "ename": "TypeError",
     "evalue": "'not_poor' is an invalid keyword argument for print()",
     "output_type": "error",
     "traceback": [
      "\u001b[1;31m---------------------------------------------------------------------------\u001b[0m",
      "\u001b[1;31mTypeError\u001b[0m                                 Traceback (most recent call last)",
      "\u001b[1;32mc:\\Users\\Atul Vyas\\Desktop\\new_assignment\\asssignment.ipynb Cell 2'\u001b[0m in \u001b[0;36m<cell line: 20>\u001b[1;34m()\u001b[0m\n\u001b[0;32m     <a href='vscode-notebook-cell:/c%3A/Users/Atul%20Vyas/Desktop/new_assignment/asssignment.ipynb#ch0000001?line=15'>16</a>\u001b[0m   \u001b[39melse\u001b[39;00m:\n\u001b[0;32m     <a href='vscode-notebook-cell:/c%3A/Users/Atul%20Vyas/Desktop/new_assignment/asssignment.ipynb#ch0000001?line=16'>17</a>\u001b[0m     \u001b[39mreturn\u001b[39;00m str1\n\u001b[1;32m---> <a href='vscode-notebook-cell:/c%3A/Users/Atul%20Vyas/Desktop/new_assignment/asssignment.ipynb#ch0000001?line=19'>20</a>\u001b[0m \u001b[39mprint\u001b[39;49m(not_poor \u001b[39m=\u001b[39;49m\u001b[39minput\u001b[39;49m(\u001b[39m'\u001b[39;49m\u001b[39mENTER YOUR STRING:\u001b[39;49m\u001b[39m'\u001b[39;49m))\n\u001b[0;32m     <a href='vscode-notebook-cell:/c%3A/Users/Atul%20Vyas/Desktop/new_assignment/asssignment.ipynb#ch0000001?line=23'>24</a>\u001b[0m \u001b[39mprint\u001b[39m(not_poor(\u001b[39m'\u001b[39m\u001b[39mThe lyrics is poor!\u001b[39m\u001b[39m'\u001b[39m))\n",
      "\u001b[1;31mTypeError\u001b[0m: 'not_poor' is an invalid keyword argument for print()"
     ]
    }
   ],
   "source": [
    "'''6. Write a Python program to find the first appearance of the substring 'not' and 'poor' from a given string, if\n",
    "'not' follows the 'poor', replace the whole 'not'...'poor' substring with 'good'.\n",
    "Return the resulting string'''\n",
    "\n",
    "\n",
    "\n",
    "\n",
    "def not_poor(str1):\n",
    "  snot = str1.find('not')\n",
    "  spoor = str1.find('poor')\n",
    "  \n",
    "\n",
    "  if spoor > snot and snot>0 and spoor>0:\n",
    "    str1 = str1.replace(str1[snot:(spoor+4)], 'good')\n",
    "    return str1\n",
    "  else:\n",
    "    return str1\n",
    "\n",
    "\n",
    "print(not_poor =input('ENTER YOUR STRING:'))\n",
    "\n",
    "\n",
    "print(not_poor('The lyrics is poor!'))"
   ]
  },
  {
   "cell_type": "code",
   "execution_count": 2,
   "metadata": {},
   "outputs": [
    {
     "name": "stdout",
     "output_type": "stream",
     "text": [
      "1\n"
     ]
    }
   ],
   "source": [
    "'''7. Program to find Greatest Common Divisor of two numbers. For example,\n",
    "    the GCD of 20 and 28 is 4 and GCD of 98 and 56 is 14.?'''\n",
    "\n",
    "def gcd_01(num1,num2):\n",
    "\n",
    "    if num1 > num2:\n",
    "        smaller = num2\n",
    "    else:\n",
    "        smaller = num1\n",
    "\n",
    "    for i in range (1, smaller + 1):\n",
    "        if (num1 % i == 0) and (num2 % i == 0):\n",
    "            hcf = i\n",
    "    return hcf\n",
    "\n",
    "\n",
    "num1= int(input('enter your number:'))\n",
    "num2 = int(input('enter your number:'))\n",
    "\n",
    "print(gcd_01(num1,num2))\n"
   ]
  },
  {
   "cell_type": "code",
   "execution_count": 4,
   "metadata": {},
   "outputs": [
    {
     "name": "stdout",
     "output_type": "stream",
     "text": [
      "['1', '2', '3', '4', '5', '6', '7', '8', '9', '0']\n",
      "['1', '2', '3', '4', '5']\n",
      "sub_list is subset of list\n"
     ]
    }
   ],
   "source": [
    "# 8.Write a Python program to check whether a list contains a sublist?\n",
    "\n",
    "# def check(list,sub_list):\n",
    "\n",
    "#     sub_set = False\n",
    "\n",
    "#     if sub_list == []:\n",
    "\n",
    "#         sub_set = True\n",
    "    \n",
    "#     elif sub_list == list:\n",
    "\n",
    "#         sub_set == True\n",
    "\n",
    "#     elif len(sub_list) > len(list):\n",
    "        \n",
    "#         sub_set  = False\n",
    "\n",
    "#     else:\n",
    "\n",
    "#         for i in range(len(list)):\n",
    "#             if list[i] == sub_list[0]:\n",
    "\n",
    "#                 n = 1\n",
    "\n",
    "#                 while ( n < len(sub_list)) and (list[i + n]  ==  sub_list[n]):\n",
    "\n",
    "#                     n += 1\n",
    "\n",
    "#                 if n == len(sub_list):\n",
    "#                     sub_set = True\n",
    "\n",
    "    \n",
    "#     return sub_set\n",
    "\n",
    "\n",
    "# a = [2,4,8,7,6,9,2]\n",
    "# b = [8,7]\n",
    "# c = [6,2]\n",
    "\n",
    "# print(check(a,b))\n",
    "# print(check(a,c))\n",
    "\n",
    "\n",
    "\n",
    "\n",
    "\n",
    "str_01 = input('enter your string:')\n",
    "str_02 = input('enter your string2:')\n",
    "\n",
    "\n",
    "lst = list(str_01)\n",
    "sub_list = list(str_02)\n",
    "\n",
    "print(lst)\n",
    "print(sub_list)\n",
    "\n",
    "if set(sub_list).issubset(set(lst)):\n",
    "    print('sub_list is subset of list')\n",
    "else:\n",
    "    print('sub_list is not subset of list')\n",
    "    "
   ]
  },
  {
   "cell_type": "code",
   "execution_count": 9,
   "metadata": {},
   "outputs": [
    {
     "name": "stdout",
     "output_type": "stream",
     "text": [
      "the sorted list: [1, 2, 7, 85, 97]\n",
      "the second smallest value of the list: 2\n"
     ]
    }
   ],
   "source": [
    "# 9.Write a Python program to find the second smallest number in a list. ?\n",
    "\n",
    "li = []\n",
    "\n",
    "num = int(input('enter the number of elements:'))\n",
    "\n",
    "for i in range(1, num+1):\n",
    "    element = int(input('enter the elements: '))\n",
    "    li.append(element)\n",
    "li.sort()\n",
    "\n",
    "print('the sorted list:', li)\n",
    "print('the second smallest value of the list:', li[1])"
   ]
  },
  {
   "cell_type": "code",
   "execution_count": 1,
   "metadata": {},
   "outputs": [
    {
     "name": "stdout",
     "output_type": "stream",
     "text": [
      "Original List :  [10, 20, 30, 10, 40, 50, 60, 50, 70, 90, 80, 70, 10, 20, 50, 60, 100, 110, 100, 120, 130, 120]\n",
      "List of unique numbers :  [130, 100, 70, 40, 10, 110, 80, 50, 20, 120, 90, 60, 30]\n"
     ]
    }
   ],
   "source": [
    "# 10. Write a Python program to get unique values from a list.?\n",
    "\n",
    "my_list = [10,20,30,10,40,50,60,50,70,90,80,70,10,20,50,60,100,110,100,120,130,120]\n",
    "print(\"Original List : \",my_list)\n",
    "my_set = set(my_list)\n",
    "my_new_list = list(my_set)\n",
    "print(\"List of unique numbers : \",my_new_list)\n",
    "\n"
   ]
  },
  {
   "cell_type": "code",
   "execution_count": 20,
   "metadata": {},
   "outputs": [
    {
     "name": "stdout",
     "output_type": "stream",
     "text": [
      "sub_list1 -> [4, 5, 6, 7, 8, 9]\n",
      "sub_list2 -> [14, 45, 65, 87, 90, 14, 25, 36]\n",
      "sub_list3 -> [45, 85, 71, 13, 16, 19]\n"
     ]
    }
   ],
   "source": [
    "# 11. Write a Python program to unzip a list of tuples into individual lists.?\n",
    "\n",
    "list_01 = [(4,5,6,7,8,9),(14,45,65,87,90,14,25,36),(45,85,71,13,16,19)]\n",
    "\n",
    "for i in range(len(list_01)):\n",
    "    globals()[f'sub_list{i+1}'] = list(list_01[i])\n",
    "    print(f\"sub_list{i+1} -> {globals()[f'sub_list{i+1}']}\")"
   ]
  },
  {
   "cell_type": "code",
   "execution_count": 24,
   "metadata": {},
   "outputs": [
    {
     "name": "stdout",
     "output_type": "stream",
     "text": [
      "{'akash': 10, 'gaurav': 12, 'anand': 14, 'suraj': 20, 'akhil': 25, 'ashish': 30}\n"
     ]
    }
   ],
   "source": [
    "# 12.Write a Python program to convert a list of tuples into a dictionary?\n",
    "\n",
    "list = [(\"akash\", 10), (\"gaurav\", 12), (\"anand\", 14),(\"suraj\", 20), (\"akhil\", 25), (\"ashish\", 30)]\n",
    "\n",
    "a = dict(list)\n",
    "print(a)"
   ]
  },
  {
   "cell_type": "code",
   "execution_count": 38,
   "metadata": {},
   "outputs": [
    {
     "name": "stdout",
     "output_type": "stream",
     "text": [
      "[24, 48, 78, 79, 133]\n",
      "[133, 79, 78, 48, 24]\n"
     ]
    }
   ],
   "source": [
    "# 13. Write a Python program to sort a dictionary (ascending /descending) by value?\n",
    "\n",
    "dict = {\n",
    "    'a' : 133,\n",
    "    'b' : 24,\n",
    "    'c' : 48,\n",
    "    'd' : 78,\n",
    "    'e' : 79\n",
    "}\n",
    "\n",
    "val = list(dict.values())\n",
    "\n",
    "val.sort()\n",
    "print(val)\n",
    "\n",
    "val.sort(reverse=True)\n",
    "print(val)\n",
    "\n"
   ]
  },
  {
   "cell_type": "code",
   "execution_count": 16,
   "metadata": {},
   "outputs": [
    {
     "name": "stdout",
     "output_type": "stream",
     "text": [
      "[14, 16, 30, 48, 120]\n",
      "[30, 48, 120]\n"
     ]
    }
   ],
   "source": [
    "# 14. Write a Python program to find the highest 3 values in a dictionary?\n",
    "\n",
    "dict_01  = {\n",
    "    \"a\" : 30,\n",
    "    \"b\" : 16,\n",
    "    \"c\" : 14,\n",
    "    \"d\" : 120,\n",
    "    'e' : 48\n",
    "}\n",
    "\n",
    "x = dict_01.values()\n",
    "\n",
    "max_value = sorted(x)\n",
    "print(max_value)\n",
    "\n",
    "print(max_value[-3:])\n",
    "    "
   ]
  },
  {
   "cell_type": "code",
   "execution_count": 2,
   "metadata": {},
   "outputs": [
    {
     "name": "stdout",
     "output_type": "stream",
     "text": [
      "Fibonacci sequence:\n",
      "0\n",
      "1\n",
      "1\n",
      "2\n",
      "3\n",
      "5\n",
      "8\n",
      "13\n",
      "21\n",
      "34\n"
     ]
    }
   ],
   "source": [
    "'''15. Given a number n, write a python program to make and print the list of Fibonacci series up to n.\n",
    "Input : n=7\n",
    "Hint : first 7 numbers in the series\n",
    "Expected output :\n",
    "First few Fibonacci numbers are 0, 1, 1, 2, 3, 5, 8, 13'''\n",
    "\n",
    "\n",
    "# Program to display the Fibonacci sequence up to n-th term\n",
    "\n",
    "nterms = int(input(\"How many terms? \"))\n",
    "\n",
    "# first two terms\n",
    "n1, n2 = 0, 1\n",
    "count = 0\n",
    "\n",
    "# check if the number of terms is valid\n",
    "if nterms <= 0:\n",
    "   print(\"Please enter a positive integer\")\n",
    "# if there is only one term, return n1\n",
    "elif nterms == 1:\n",
    "   print(\"Fibonacci sequence upto\",nterms,\":\")\n",
    "   print(n1)\n",
    "# generate fibonacci sequence\n",
    "else:\n",
    "   print(\"Fibonacci sequence:\")\n",
    "   while count < nterms:\n",
    "       print(n1)\n",
    "       nth = n1 + n2\n",
    "       # update values\n",
    "       n1 = n2\n",
    "       n2 = nth\n",
    "       count += 1\n",
    "\n",
    "\n",
    "\n",
    "\n",
    "\n"
   ]
  },
  {
   "cell_type": "code",
   "execution_count": null,
   "metadata": {},
   "outputs": [],
   "source": []
  }
 ],
 "metadata": {
  "kernelspec": {
   "display_name": "Python 3.9.6 64-bit",
   "language": "python",
   "name": "python3"
  },
  "language_info": {
   "codemirror_mode": {
    "name": "ipython",
    "version": 3
   },
   "file_extension": ".py",
   "mimetype": "text/x-python",
   "name": "python",
   "nbconvert_exporter": "python",
   "pygments_lexer": "ipython3",
   "version": "3.9.6"
  },
  "orig_nbformat": 4,
  "vscode": {
   "interpreter": {
    "hash": "b8eeea7db13471468ad276e1aa6abbd3f9f4200994ed792cdeec60c0462f2e2a"
   }
  }
 },
 "nbformat": 4,
 "nbformat_minor": 2
}
